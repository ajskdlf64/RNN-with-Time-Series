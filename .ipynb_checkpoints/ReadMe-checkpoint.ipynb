{
 "cells": [
  {
   "cell_type": "markdown",
   "metadata": {},
   "source": [
    "# 순환 신경망으로 시퀀스 데이터 모델링"
   ]
  },
  {
   "cell_type": "markdown",
   "metadata": {},
   "source": [
    "독립된 데이터가 아닌 시계열 특징을 가지고 있는 데이터에 대한 딥러닝 모델 적용 및 관련 이론"
   ]
  },
  {
   "cell_type": "markdown",
   "metadata": {},
   "source": [
    "## Index"
   ]
  },
  {
   "cell_type": "markdown",
   "metadata": {},
   "source": [
    "### 1. 시퀀스 데이터란?\n",
    " - #### 1.1 시퀀스 데이터 모델링 : 순서를 고려한다.\n",
    " - #### 1.2 시퀀스 표현\n",
    " - #### 1.3 시퀀스 모델링의 종류"
   ]
  },
  {
   "cell_type": "markdown",
   "metadata": {},
   "source": [
    "### 2. 시퀀스 모델링을 위한 RNN\n",
    " - #### 2.1 RNN 구조와 데이터 흐름 이해\n",
    " - #### 2.2 RNN의 활성화 출력 계산\n",
    " - #### [Notice] BPTT로 RNN 훈련하기\n",
    " - #### 2.3 긴 시퀀스 학습의 어려움 \n",
    " - #### 2.4 LSTM 유닛"
   ]
  }
 ],
 "metadata": {
  "kernelspec": {
   "display_name": "Python 3",
   "language": "python",
   "name": "python3"
  },
  "language_info": {
   "codemirror_mode": {
    "name": "ipython",
    "version": 3
   },
   "file_extension": ".py",
   "mimetype": "text/x-python",
   "name": "python",
   "nbconvert_exporter": "python",
   "pygments_lexer": "ipython3",
   "version": "3.6.9"
  }
 },
 "nbformat": 4,
 "nbformat_minor": 2
}
