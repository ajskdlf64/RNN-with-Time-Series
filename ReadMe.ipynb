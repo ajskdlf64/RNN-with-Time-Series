{
 "cells": [
  {
   "cell_type": "markdown",
   "metadata": {},
   "source": [
    "# 순환 신경망으로 시퀀스 데이터 모델링"
   ]
  },
  {
   "cell_type": "markdown",
   "metadata": {},
   "source": [
    "독립된 데이터가 아닌 시계열 특징을 가지고 있는 데이터에 대한 딥러닝 모델 적용 및 관련 이론"
   ]
  },
  {
   "cell_type": "markdown",
   "metadata": {},
   "source": [
    "## Index\n",
    "\n",
    " - **1. 시퀀스 데이터란?**\n",
    "<br><br>\n",
    " - **2. 시퀀스 모델링을 위한 RNN**\n",
    "<br><br>\n",
    " - **3. Tensorflow의 tf.keras를 API로 시퀀스 모델링을 위한 다층 RNN 구현**\n",
    "<br><br>\n",
    " - **4. Project1 다층 RNN으로 IMDb 영화 리뷰의 감성 분석 수행**\n",
    "<br><br>\n",
    " - **5. Project2 Tensorflow로 글자 단위 언어 모델 구현**\n",
    "<br><br>\n",
    " - **6. 전체 요약**"
   ]
  }
 ],
 "metadata": {
  "kernelspec": {
   "display_name": "Python 3",
   "language": "python",
   "name": "python3"
  },
  "language_info": {
   "codemirror_mode": {
    "name": "ipython",
    "version": 3
   },
   "file_extension": ".py",
   "mimetype": "text/x-python",
   "name": "python",
   "nbconvert_exporter": "python",
   "pygments_lexer": "ipython3",
   "version": "3.6.9"
  }
 },
 "nbformat": 4,
 "nbformat_minor": 2
}
